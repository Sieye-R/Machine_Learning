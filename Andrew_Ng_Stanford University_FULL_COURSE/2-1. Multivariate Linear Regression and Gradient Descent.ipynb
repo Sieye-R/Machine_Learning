{
 "cells": [
  {
   "cell_type": "markdown",
   "id": "a1889b96",
   "metadata": {},
   "source": [
    "# 2-1. Multivariate Linear Regression and Gradient Descent"
   ]
  },
  {
   "cell_type": "code",
   "execution_count": 1,
   "id": "80df26ec",
   "metadata": {},
   "outputs": [],
   "source": [
    "import os\n",
    "import numpy as np\n",
    "import matplotlib.pyplot as plt\n",
    "from mpl_toolkits.mplot3d import Axes3D"
   ]
  },
  {
   "cell_type": "markdown",
   "id": "0d771d39",
   "metadata": {},
   "source": [
    "### 1. Loading the Data"
   ]
  },
  {
   "cell_type": "markdown",
   "id": "ce84e7ef",
   "metadata": {},
   "source": [
    "The file Data/housing_prices.txt contains a training set of housing prices in Portland, Oregon. The first column is the size of the house (in square feet), the second column is the number of bedrooms, and the third column is the price of the house.\n",
    "\n",
    "We load the data."
   ]
  },
  {
   "cell_type": "code",
   "execution_count": 2,
   "id": "26e7ec51",
   "metadata": {},
   "outputs": [],
   "source": [
    "data = np.loadtxt(os.path.join('Data', 'housing_prices.txt'), delimiter=',')\n",
    "Org_X = data[:, :2]\n",
    "y = data[:, 2]\n",
    "m = y.size"
   ]
  },
  {
   "cell_type": "markdown",
   "id": "ffdf15be",
   "metadata": {},
   "source": [
    "The following is the first 10 rows of the data. The symbols which are used in string format are explained in Appendix."
   ]
  },
  {
   "cell_type": "code",
   "execution_count": 3,
   "id": "de6aeeb6",
   "metadata": {
    "scrolled": false
   },
   "outputs": [
    {
     "name": "stdout",
     "output_type": "stream",
     "text": [
      "         The size of the house        The number of bedrooms           The price\n",
      "\n",
      "                2104                             3                        399900\n",
      "                1600                             3                        329900\n",
      "                2400                             3                        369000\n",
      "                1416                             2                        232000\n",
      "                3000                             4                        539900\n",
      "                1985                             4                        299900\n",
      "                1534                             3                        314900\n",
      "                1427                             3                        198999\n",
      "                1380                             3                        212000\n",
      "                1494                             3                        242500\n"
     ]
    }
   ],
   "source": [
    "print('{:>30s}{:>30s}{:>20s}'.format('The size of the house', 'The number of bedrooms', 'The price'))\n",
    "print('')\n",
    "for i in range(10):\n",
    "    print('{:20.0f}{:30.0f}{:30.0f}'.format(Org_X[i, 0], Org_X[i, 1], y[i]))"
   ]
  },
  {
   "cell_type": "markdown",
   "id": "a2dbeb5c",
   "metadata": {},
   "source": [
    "### 2. Normalization"
   ]
  },
  {
   "cell_type": "markdown",
   "id": "348f8cbc",
   "metadata": {},
   "source": [
    "As you can see, the ranges of first two columns are very different. So if we find the minimal point $\\theta$ which minimizes the cost function $J(\\theta)$, it would be hard to find a proper constant $\\alpha$ such that $J(\\theta)$ converges because $J(\\theta)$ does not have much convexity. (The formulas for the cost function and gradient descent can be found in Section 4 and Section 5, respectively.) To avoid from this situation, we first scale the data. We can consider standardization, min-max normalization or mean normalization. \n",
    "\n",
    "(1) If we scale the data with standardization, then the mean and the standard deviation of the resulting data would be zero and one, respectively.\n",
    "\n",
    "(2) If we scale the data with min-max normalization, then the range of the resulting data would be [0, 1].\n",
    "\n",
    "(3) If we scale the data with mean normalization, then the range of the resulting data would be [-1, 1].\n",
    "\n",
    "For details, see https://github.com/Sieye-R/Machine_Learning/blob/main/Normalization.pdf"
   ]
  },
  {
   "cell_type": "markdown",
   "id": "7aaec92e",
   "metadata": {},
   "source": [
    "### (1) Standardization"
   ]
  },
  {
   "cell_type": "markdown",
   "id": "084e4864",
   "metadata": {},
   "source": [
    "We standardize the data. Suppose that $X$ has $2$ features $X^{(1)}$ and $X^{(2)}$ and $m$ training sets. If $\\mu^{(i)}$ and $\\sigma^{(i)}$ are the mean and the standard deviation of the feature $X^{(i)}$, respectively, then we replace $x_j^{(i)}$ with \n",
    "$$\\frac{x_j^{(i)}-\\mu^{(i)}}{\\sigma^{(i)}}$$\n",
    "for each $i = 1, 2$ and $j=1, \\cdots, m$."
   ]
  },
  {
   "cell_type": "code",
   "execution_count": 4,
   "id": "03a898d5",
   "metadata": {},
   "outputs": [],
   "source": [
    "def Standardization(X):\n",
    "    X_stand = Org_X.copy()\n",
    "    mu = np.mean(Org_X, axis=0)\n",
    "    sigma = np.std(Org_X, axis=0)\n",
    "    X_stand = (Org_X - mu)/sigma\n",
    "    return X_stand"
   ]
  },
  {
   "cell_type": "markdown",
   "id": "8375e163",
   "metadata": {},
   "source": [
    "The following is the first 10 rows of the data after standardization."
   ]
  },
  {
   "cell_type": "code",
   "execution_count": 5,
   "id": "410b0b62",
   "metadata": {
    "scrolled": true
   },
   "outputs": [
    {
     "name": "stdout",
     "output_type": "stream",
     "text": [
      "         The size of the house        The number of bedrooms           The price\n",
      "\n",
      "              0.1314                       -0.2261                   399900.0000\n",
      "             -0.5096                       -0.2261                   329900.0000\n",
      "              0.5079                       -0.2261                   369000.0000\n",
      "             -0.7437                       -1.5544                   232000.0000\n",
      "              1.2711                        1.1022                   539900.0000\n",
      "             -0.0199                        1.1022                   299900.0000\n",
      "             -0.5936                       -0.2261                   314900.0000\n",
      "             -0.7297                       -0.2261                   198999.0000\n",
      "             -0.7895                       -0.2261                   212000.0000\n",
      "             -0.6445                       -0.2261                   242500.0000\n"
     ]
    }
   ],
   "source": [
    "print('{:>30s}{:>30s}{:>20s}'.format('The size of the house', 'The number of bedrooms', 'The price'))\n",
    "print('')\n",
    "for i in range(10):\n",
    "    print('{:20.4f}{:30.4f}{:30.4f}'.format(Standardization(Org_X)[i, 0], Standardization(Org_X)[i, 1], y[i]))"
   ]
  },
  {
   "cell_type": "markdown",
   "id": "e79be9d0",
   "metadata": {},
   "source": [
    "We can also standardize the data with Scikitlearn as follows:"
   ]
  },
  {
   "cell_type": "code",
   "execution_count": 6,
   "id": "88928d3e",
   "metadata": {},
   "outputs": [
    {
     "name": "stdout",
     "output_type": "stream",
     "text": [
      "         The size of the house        The number of bedrooms           The price\n",
      "\n",
      "              0.1314                       -0.2261                        399900\n",
      "             -0.5096                       -0.2261                        329900\n",
      "              0.5079                       -0.2261                        369000\n",
      "             -0.7437                       -1.5544                        232000\n",
      "              1.2711                        1.1022                        539900\n",
      "             -0.0199                        1.1022                        299900\n",
      "             -0.5936                       -0.2261                        314900\n",
      "             -0.7297                       -0.2261                        198999\n",
      "             -0.7895                       -0.2261                        212000\n",
      "             -0.6445                       -0.2261                        242500\n"
     ]
    }
   ],
   "source": [
    "from sklearn.preprocessing import StandardScaler\n",
    "scaler = StandardScaler()\n",
    "scaler.fit(Org_X)\n",
    "print('{:>30s}{:>30s}{:>20s}'.format('The size of the house', 'The number of bedrooms', 'The price'))\n",
    "print('')\n",
    "for i in range(10):\n",
    "    print('{:20.4f}{:30.4f}{:30.0f}'.format(scaler.transform(Org_X)[i, 0], scaler.transform(Org_X)[i, 1], y[i]))"
   ]
  },
  {
   "cell_type": "markdown",
   "id": "65c100ec",
   "metadata": {},
   "source": [
    "### (2) Min-Max Normalization"
   ]
  },
  {
   "cell_type": "markdown",
   "id": "a1e39de0",
   "metadata": {},
   "source": [
    "Suppose that $X$ has $2$ features $X^{(1)}$ and $X^{(2)}$ and $m$ training sets. If $m^{(i)}$ and $M^{(i)}$ are the minimum and the maximum of the feature $X^{(i)}$, respectively, then we replace $x_j^{(i)}$ with \n",
    "$$\\frac{x_j^{(i)}-m^{(i)}}{M^{(i)}-m^{(i)}}$$\n",
    "for each $i = 1, 2$ and $j=1, \\cdots, m$."
   ]
  },
  {
   "cell_type": "code",
   "execution_count": 7,
   "id": "c389d327",
   "metadata": {},
   "outputs": [],
   "source": [
    "def Min_Max(X):\n",
    "    Max = np.max(Org_X, axis=0)\n",
    "    Min = np.min(Org_X, axis=0)\n",
    "    X_mm = (Org_X - Min)/(Max-Min)\n",
    "    return X_mm"
   ]
  },
  {
   "cell_type": "markdown",
   "id": "5e44a119",
   "metadata": {},
   "source": [
    "The following is the first 10 rows after min_max normalization."
   ]
  },
  {
   "cell_type": "code",
   "execution_count": 8,
   "id": "66347c1b",
   "metadata": {},
   "outputs": [
    {
     "name": "stdout",
     "output_type": "stream",
     "text": [
      "         The size of the house        The number of bedrooms           The price\n",
      "\n",
      "              0.3453                        0.5000                        399900\n",
      "              0.2063                        0.5000                        329900\n",
      "              0.4269                        0.5000                        369000\n",
      "              0.1555                        0.2500                        232000\n",
      "              0.5924                        0.7500                        539900\n",
      "              0.3125                        0.7500                        299900\n",
      "              0.1881                        0.5000                        314900\n",
      "              0.1586                        0.5000                        198999\n",
      "              0.1456                        0.5000                        212000\n",
      "              0.1771                        0.5000                        242500\n"
     ]
    }
   ],
   "source": [
    "print('{:>30s}{:>30s}{:>20s}'.format('The size of the house', 'The number of bedrooms', 'The price'))\n",
    "print('')\n",
    "for i in range(10):\n",
    "    print('{:20.4f}{:30.4f}{:30.0f}'.format(Min_Max(Org_X)[i, 0], Min_Max(Org_X)[i, 1], y[i]))"
   ]
  },
  {
   "cell_type": "markdown",
   "id": "739afdaa",
   "metadata": {},
   "source": [
    "### (3) Mean Normalization"
   ]
  },
  {
   "cell_type": "markdown",
   "id": "54cdf4bf",
   "metadata": {},
   "source": [
    "Suppose that $X$ has $2$ features $X^{(1)}$ and $X^{(2)}$ and $m$ training sets. If $\\mu^{(i)}$, $m^{(i)}$ and $M^{(i)}$ are the mean, minimum and the maximum of the feature $X^{(i)}$, respectively, then we replace $x_j^{(i)}$ with \n",
    "$$\\frac{x_j^{(i)}-\\mu^{(i)}}{M^{(i)}-m^{(i)}}$$\n",
    "for each $i = 1, 2$ and $j=1, \\cdots, m$."
   ]
  },
  {
   "cell_type": "code",
   "execution_count": 9,
   "id": "3ec775e1",
   "metadata": {},
   "outputs": [],
   "source": [
    "def MeanNormalization(X):\n",
    "    X_MeanNorm = Org_X.copy()\n",
    "    mu = np.mean(Org_X, axis=0)\n",
    "    Max = np.max(Org_X, axis=0)\n",
    "    Min = np.min(Org_X, axis=0)\n",
    "    X_MeanNorm = (Org_X - mu)/(Max-Min)\n",
    "    return X_MeanNorm"
   ]
  },
  {
   "cell_type": "markdown",
   "id": "69406b05",
   "metadata": {},
   "source": [
    "The following is the first 10 rows after mean normalization."
   ]
  },
  {
   "cell_type": "code",
   "execution_count": 10,
   "id": "b322ba0e",
   "metadata": {
    "scrolled": true
   },
   "outputs": [
    {
     "name": "stdout",
     "output_type": "stream",
     "text": [
      "         The size of the house        The number of bedrooms           The price\n",
      "\n",
      "              0.0285                       -0.0426                        399900\n",
      "             -0.1105                       -0.0426                        329900\n",
      "              0.1101                       -0.0426                        369000\n",
      "             -0.1612                       -0.2926                        232000\n",
      "              0.2756                        0.2074                        539900\n",
      "             -0.0043                        0.2074                        299900\n",
      "             -0.1287                       -0.0426                        314900\n",
      "             -0.1582                       -0.0426                        198999\n",
      "             -0.1712                       -0.0426                        212000\n",
      "             -0.1397                       -0.0426                        242500\n"
     ]
    }
   ],
   "source": [
    "print('{:>30s}{:>30s}{:>20s}'.format('The size of the house', 'The number of bedrooms', 'The price'))\n",
    "print('')\n",
    "for i in range(10):\n",
    "    print('{:20.4f}{:30.4f}{:30.0f}'.format(MeanNormalization(Org_X)[i, 0], MeanNormalization(Org_X)[i, 1], y[i]))"
   ]
  },
  {
   "cell_type": "markdown",
   "id": "34c73499",
   "metadata": {},
   "source": [
    "In this notebook, we will normalize the data by mean normalization. "
   ]
  },
  {
   "cell_type": "markdown",
   "id": "67857b1a",
   "metadata": {},
   "source": [
    "### 3. Modification of x (add a column of 1's for the intercept term)"
   ]
  },
  {
   "cell_type": "markdown",
   "id": "6837580d",
   "metadata": {},
   "source": [
    "Suppose that we have $n$ features $X^{(1)}, \\cdots, X^{(n)}$ and each feature $X^{(j)}$ has $m$ training datasets\n",
    "consisting of independent variables $x_1^{(j)}, \\cdots, x_m^{(j)}$ and that dependent variables are $y_1, \\cdots, y_m$.\n",
    "Then the linear regression predictor of the data is of the form\n",
    "$$y = \\theta_0 + \\theta_1 x^{(1)} + \\theta_2 x^{(2)} + \\cdots + \\theta_n x^{(n)}.$$ \n",
    "\n",
    "We define the $m \\times (n+1)$ matrix $X$ by\n",
    "$$X(i, 1) = 1 \\qquad X(i, j+1) = x_i^{(j)} \\qquad (i = 1, \\cdots, m, \\; j=1, \\cdots n).$$\n",
    "We also define the column vectors $y \\in \\mathbb{R}^m$ and $\\theta \\in \\mathbb{R}^{n+1}$ by\n",
    "$$y(i) = y_i \\qquad (1 \\leq i \\leq m)$$\n",
    "and\n",
    "$$\\theta(i) = \\theta_{i-1} \\qquad (i=1, \\cdots, n+1).$$\n",
    "\n",
    "Then the formula of the least square is given by\n",
    "$$\\sum_{i=1}^m \\, \\{(X \\theta-y)(i)\\}^2.$$\n",
    "\n",
    "In the following cell, we add a column of 1's and construct an $m \\times (n+1)$ matrix $X$."
   ]
  },
  {
   "cell_type": "code",
   "execution_count": 11,
   "id": "4dc2e2dc",
   "metadata": {},
   "outputs": [],
   "source": [
    "X = np.concatenate([np.ones((m, 1)), MeanNormalization(Org_X)], axis=1)"
   ]
  },
  {
   "cell_type": "markdown",
   "id": "97a80847",
   "metadata": {},
   "source": [
    "### 4. Cost Function"
   ]
  },
  {
   "cell_type": "markdown",
   "id": "0b74c46a",
   "metadata": {},
   "source": [
    "The cost function $J(\\theta_0, \\theta_1, \\cdots, \\theta_n)$ is defined by\n",
    "$$J(\\theta_0, \\theta_1, \\cdots, \\theta_n) = \\frac{1}{2m} \\sum_{i=1}^m \\, \\{(X \\theta-y)(i)\\}^2.$$\n",
    "This value is the mean of least squares devided by $2$.\n",
    "When we partial differentiate $J$, $2$ is eliminated by the chain rule.\n",
    "Except this, $2$ does not play any role when we partial differentiate $J$.\n",
    "\n",
    "We implement the cost function $J(\\theta_0, \\theta_1, \\cdots, \\theta_n)$ with Python. Here, we confusingly use $\\theta$ whose shape is (3, ) in our Python language."
   ]
  },
  {
   "cell_type": "code",
   "execution_count": 12,
   "id": "050cfa4d",
   "metadata": {},
   "outputs": [],
   "source": [
    "def computeCostMulti(X, y, theta):\n",
    "    m = y.shape[0] \n",
    "    J = 0\n",
    "    dot_prod=np.dot(X, theta)\n",
    "    J = np.dot(dot_prod-y, dot_prod-y)\n",
    "    J /= 2*m\n",
    "    return J"
   ]
  },
  {
   "cell_type": "markdown",
   "id": "d5705e46",
   "metadata": {},
   "source": [
    "The following is the cost of $(\\theta_0, \\theta_1, \\theta_2)=(0,0,0)$."
   ]
  },
  {
   "cell_type": "code",
   "execution_count": 13,
   "id": "50bf13ad",
   "metadata": {
    "scrolled": true
   },
   "outputs": [
    {
     "name": "stdout",
     "output_type": "stream",
     "text": [
      "J(0, 0) = 65591548106.46\n"
     ]
    }
   ],
   "source": [
    "J = computeCostMulti(X, y, theta=np.array([0.0, 0.0, 0.0]))\n",
    "print('J(0, 0) = %.2f' % J)"
   ]
  },
  {
   "cell_type": "markdown",
   "id": "513a26b9",
   "metadata": {},
   "source": [
    "### 5. Gradient Descent\n",
    "\n",
    "\n",
    "We set\n",
    "$$\\theta_j^{(0)} = \\theta_j \\qquad (j = 0, 1, 2)$$\n",
    "and\n",
    "$$\\theta_j^{(r)} = \\theta_j^{(r-1)} - \\alpha \\frac{\\partial J}{\\partial \\theta_j}(\\theta_0^{(r-1)}, \\theta_1^{(r-1)}, \\theta_2^{(r-1)}) \\qquad (r=1, 2, \\cdots).$$\n",
    "For sutible $\\alpha$, \n",
    "the sequence $g(\\alpha) = \\{(\\theta_0^{(r)}, \\theta_1^{(r)}, \\theta_2^{(r)})\\}$ converges to the minimum point of $J(\\theta_0, \\theta_1, \\theta_2)$ as $r$ goes to the infinity. \n",
    "\n",
    "The direct computation shows that\n",
    "$$\\frac{\\partial J}{\\partial \\theta_j}(\\theta_0, \\theta_1, \\theta_2) = \\frac{1}{m} \\sum_{i=1}^m \\, (X\\theta - y)(i)X_i^{(j)} \\qquad (j=0, 1, 2)$$\n",
    "\n",
    "We implement gradient descent with Python."
   ]
  },
  {
   "cell_type": "code",
   "execution_count": 14,
   "id": "5a0045c6",
   "metadata": {},
   "outputs": [],
   "source": [
    "def gradientDescentMulti(X, y, theta, alpha, iterations):\n",
    "    m = y.shape[0] \n",
    "    theta = theta.copy()\n",
    "    J_history = []\n",
    "    \n",
    "    for i in range(iterations):\n",
    "        dotprod = np.dot(X, theta)\n",
    "        theta = theta - (alpha / m) * np.dot(dotprod-y, X)\n",
    "        J_history.append(computeCostMulti(X, y, theta))\n",
    "    \n",
    "    return theta, J_history"
   ]
  },
  {
   "cell_type": "markdown",
   "id": "88005c89",
   "metadata": {},
   "source": [
    "The following graph shows that $g(\\alpha)$ converges when $\\alpha=0.1$."
   ]
  },
  {
   "cell_type": "code",
   "execution_count": 15,
   "id": "960a8176",
   "metadata": {},
   "outputs": [
    {
     "data": {
      "image/png": "[encoded data removed]",
      "text/plain": [
       "<Figure size 432x288 with 1 Axes>"
      ]
     },
     "metadata": {
      "needs_background": "light"
     },
     "output_type": "display_data"
    }
   ],
   "source": [
    "alpha = 0.5\n",
    "iterations = 1000\n",
    "\n",
    "theta = np.zeros(3)\n",
    "theta, J_history = gradientDescentMulti(X, y, theta, alpha, iterations)\n",
    "\n",
    "plt.plot(np.arange(len(J_history)), J_history, lw=2) #lw = linewidth\n",
    "plt.xlabel('Number of iterations')\n",
    "plt.ylabel('Cost J')\n",
    "plt.show()"
   ]
  },
  {
   "cell_type": "markdown",
   "id": "de9a9d54",
   "metadata": {},
   "source": [
    "The outputs of the following two cells show that what the minimum point $\\theta$ of $J$ is."
   ]
  },
  {
   "cell_type": "code",
   "execution_count": 16,
   "id": "fc46289e",
   "metadata": {},
   "outputs": [
    {
     "name": "stdout",
     "output_type": "stream",
     "text": [
      "[340412.65957447 504777.89981689 -34952.0710886 ]\n"
     ]
    }
   ],
   "source": [
    "alpha = 0.5\n",
    "iterations = 2000\n",
    "theta = np.zeros(3)\n",
    "theta, J_history = gradientDescentMulti(X, y, theta, alpha, iterations)\n",
    "print(theta)"
   ]
  },
  {
   "cell_type": "code",
   "execution_count": 17,
   "id": "3ef34ce6",
   "metadata": {},
   "outputs": [
    {
     "name": "stdout",
     "output_type": "stream",
     "text": [
      "[340412.65957447 504777.90398732 -34952.07644855]\n"
     ]
    }
   ],
   "source": [
    "alpha = 0.5\n",
    "iterations = 3000\n",
    "theta = np.zeros(3)\n",
    "theta, J_history = gradientDescentMulti(X, y, theta, alpha, iterations)\n",
    "print(theta)"
   ]
  },
  {
   "cell_type": "markdown",
   "id": "bee61c3a",
   "metadata": {},
   "source": [
    "### 6. Linear Regression Predictor"
   ]
  },
  {
   "cell_type": "code",
   "execution_count": 18,
   "id": "9ad8f740",
   "metadata": {
    "scrolled": true
   },
   "outputs": [
    {
     "name": "stdout",
     "output_type": "stream",
     "text": [
      "Hence, the linear regression predictor is y = 340412.6596 + 504777.9040 x^(1) + -34952.0764 x^(2).\n"
     ]
    }
   ],
   "source": [
    "print('Hence, the linear regression predictor is y = {:.4f} + {:.4f} x^(1) + {:.4f} x^(2).'.format(*theta))"
   ]
  },
  {
   "cell_type": "markdown",
   "id": "a1b1a882",
   "metadata": {},
   "source": [
    "Now, we predict the price of the house whose size is 1650 square feet with 3 bedrooms. \n",
    "We need to apply for the same normalization to $[1650, 3]$."
   ]
  },
  {
   "cell_type": "code",
   "execution_count": 19,
   "id": "b779c1aa",
   "metadata": {},
   "outputs": [],
   "source": [
    "house = np.array([1650, 3])\n",
    "mu = np.mean(Org_X, axis=0)\n",
    "Max = np.max(Org_X, axis=0)\n",
    "Min = np.min(Org_X, axis=0)\n",
    "house_mean_normalization = (house - mu)/(Max-Min)\n",
    "house_final = X = np.concatenate([np.ones(1), house_mean_normalization])"
   ]
  },
  {
   "cell_type": "code",
   "execution_count": 20,
   "id": "9a030864",
   "metadata": {
    "scrolled": false
   },
   "outputs": [
    {
     "name": "stdout",
     "output_type": "stream",
     "text": [
      "1650 square feet and three bedrooms house \n",
      " the predicted price by gradient descent is $293081\n"
     ]
    }
   ],
   "source": [
    "predict = house_final @ theta\n",
    "print('1650 square feet and three bedrooms house \\n the predicted price by gradient descent is ${:.0f}'.format(predict))"
   ]
  },
  {
   "cell_type": "markdown",
   "id": "63f8b671",
   "metadata": {},
   "source": [
    "### 7. Gradient Descent without Normalization"
   ]
  },
  {
   "cell_type": "markdown",
   "id": "e36dfb11",
   "metadata": {},
   "source": [
    "In this section, we plot the graph of $J(\\theta)$ when $\\alpha=0.001$ without normalization. We can compare the result with the 15-th cell. We chose 0.5 for $\\alpha$ in the 15-th cell."
   ]
  },
  {
   "cell_type": "code",
   "execution_count": 21,
   "id": "bd0a930f",
   "metadata": {},
   "outputs": [],
   "source": [
    "X = np.concatenate([np.ones((m, 1)), Org_X], axis=1)"
   ]
  },
  {
   "cell_type": "code",
   "execution_count": 22,
   "id": "139dcef5",
   "metadata": {},
   "outputs": [
    {
     "data": {
      "image/png": "[encoded data removed]",
      "text/plain": [
       "<Figure size 432x288 with 1 Axes>"
      ]
     },
     "metadata": {
      "needs_background": "light"
     },
     "output_type": "display_data"
    }
   ],
   "source": [
    "alpha = 0.001\n",
    "iterations = 50\n",
    "\n",
    "theta = np.zeros(3)\n",
    "theta, J_history = gradientDescentMulti(X, y, theta, alpha, iterations)\n",
    "\n",
    "plt.plot(np.arange(len(J_history)), J_history, lw=2) #lw = linewidth\n",
    "plt.xlabel('Number of iterations')\n",
    "plt.ylabel('Cost J')\n",
    "plt.show()"
   ]
  },
  {
   "cell_type": "markdown",
   "id": "519b7c67",
   "metadata": {},
   "source": [
    "### 8. Normal Equations"
   ]
  },
  {
   "cell_type": "markdown",
   "id": "50989cca",
   "metadata": {},
   "source": [
    "In Section 3 of <a href=\"https://github.com/Sieye-R/Machine_Learning/blob/main/Linear%20Regression%20and%20Polynomial%20Regression.pdf\">Linear Regression and Polynomial Regression.pdf</a>, \n",
    "it is proved that $\\theta$ can be expressed in terms of matrices $X$ and $y$ as follows:\n",
    "$$\\theta = (X^{\\textsf{T}}X)^{-1}X^{\\textsf{T}}y.$$\n",
    "When we directly calculate the minimal point of the cost function $J(\\theta)$, we do not need to normaliza the data. The cost function is convex so it has the minimum. How convex the graph of $J$ is does not matter."
   ]
  },
  {
   "cell_type": "code",
   "execution_count": 23,
   "id": "20ae6178",
   "metadata": {},
   "outputs": [],
   "source": [
    "def normalEqn(X, y):\n",
    "    theta = np.zeros(X.shape[1])\n",
    "    for1 = np.dot(X.T, X)\n",
    "    for2 = np.linalg.inv(for1)\n",
    "    for3 = np.dot(X.T, y)\n",
    "    theta = np.dot(for2, for3)\n",
    "    return theta"
   ]
  },
  {
   "cell_type": "code",
   "execution_count": 24,
   "id": "9411aa39",
   "metadata": {},
   "outputs": [
    {
     "name": "stdout",
     "output_type": "stream",
     "text": [
      "Theta computed from the normal equations: [89597.9095428    139.21067402 -8738.01911233]\n"
     ]
    }
   ],
   "source": [
    "theta = normalEqn(X, y)\n",
    "print('Theta computed from the normal equations: {:s}'.format(str(theta)))"
   ]
  },
  {
   "cell_type": "code",
   "execution_count": 25,
   "id": "94a636da",
   "metadata": {},
   "outputs": [
    {
     "data": {
      "text/plain": [
       "array([89597.9095428 ,   139.21067402, -8738.01911233])"
      ]
     },
     "execution_count": 25,
     "metadata": {},
     "output_type": "execute_result"
    }
   ],
   "source": [
    "theta"
   ]
  },
  {
   "cell_type": "code",
   "execution_count": 26,
   "id": "53fcf8c6",
   "metadata": {},
   "outputs": [
    {
     "name": "stdout",
     "output_type": "stream",
     "text": [
      "1650 square feet and three bedrooms house \n",
      " the predicted price by gradient descent is $293081\n"
     ]
    }
   ],
   "source": [
    "X_array = [1, 1650, 3]\n",
    "price = np.dot(X_array, theta)\n",
    "print('1650 square feet and three bedrooms house \\n the predicted price by gradient descent is ${:.0f}'.format(price))"
   ]
  }
 ],
 "metadata": {
  "kernelspec": {
   "display_name": "Python 3",
   "language": "python",
   "name": "python3"
  },
  "language_info": {
   "codemirror_mode": {
    "name": "ipython",
    "version": 3
   },
   "file_extension": ".py",
   "mimetype": "text/x-python",
   "name": "python",
   "nbconvert_exporter": "python",
   "pygments_lexer": "ipython3",
   "version": "3.8.10"
  }
 },
 "nbformat": 4,
 "nbformat_minor": 5
}
