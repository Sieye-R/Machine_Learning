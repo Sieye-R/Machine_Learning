{
 "cells": [
  {
   "cell_type": "markdown",
   "id": "5751d0cc",
   "metadata": {},
   "source": [
    "# 2-2. Appendix-Multivariate Linear Regression and Gradient Descent"
   ]
  },
  {
   "cell_type": "markdown",
   "id": "c0eac8b3",
   "metadata": {},
   "source": [
    "## Python String format( ) Method\n",
    "\n",
    "In this notebook, we investigate many symbols that are used in Python string format in this section. This section is actually extracted from \n",
    "<a href=\"https://www.w3schools.com/python/ref_string_format.asp\"> w3schools </a>."
   ]
  },
  {
   "cell_type": "markdown",
   "id": "f48d1f2a",
   "metadata": {},
   "source": [
    "### (1) String format\n",
    "\n",
    "The following four cells show four methods how to use string format.\n",
    "The outputs of `txt`, `txt1`, `txt2` and `txt3` are the same."
   ]
  },
  {
   "cell_type": "code",
   "execution_count": 1,
   "id": "90b14b9b",
   "metadata": {
    "scrolled": true
   },
   "outputs": [
    {
     "name": "stdout",
     "output_type": "stream",
     "text": [
      "I went to the beach two weeks ago.\n"
     ]
    }
   ],
   "source": [
    "where = \"the beach\"\n",
    "when = \"two weeks ago\"\n",
    "\n",
    "txt = \"I went to {} {}.\".format(where, when)\n",
    "print(txt)"
   ]
  },
  {
   "cell_type": "code",
   "execution_count": 2,
   "id": "12dbad48",
   "metadata": {},
   "outputs": [
    {
     "name": "stdout",
     "output_type": "stream",
     "text": [
      "I went to the beach two weeks ago.\n"
     ]
    }
   ],
   "source": [
    "txt1 = \"I went to {where} {when}.\".format(where = \"the beach\", when = \"two weeks ago\")\n",
    "print(txt1)"
   ]
  },
  {
   "cell_type": "code",
   "execution_count": 3,
   "id": "d53e1fd2",
   "metadata": {},
   "outputs": [
    {
     "name": "stdout",
     "output_type": "stream",
     "text": [
      "I went to the beach two weeks ago.\n"
     ]
    }
   ],
   "source": [
    "txt2 = \"I went to {0} {1}.\".format(\"the beach\", \"two weeks ago\")\n",
    "print(txt2)"
   ]
  },
  {
   "cell_type": "code",
   "execution_count": 4,
   "id": "a752cbaa",
   "metadata": {
    "scrolled": true
   },
   "outputs": [
    {
     "name": "stdout",
     "output_type": "stream",
     "text": [
      "I went to the beach two weeks ago.\n"
     ]
    }
   ],
   "source": [
    "txt3 = \"I went to {} {}.\".format(\"the beach\", \"two weeks ago\")\n",
    "print(txt3)"
   ]
  },
  {
   "cell_type": "markdown",
   "id": "e5d959d0",
   "metadata": {},
   "source": [
    "### (2) :<\n",
    "\n",
    "left-alignes within the available space.\n",
    "\n",
    "Is it `variable`and n spaces ???"
   ]
  },
  {
   "cell_type": "code",
   "execution_count": 5,
   "id": "305271d3",
   "metadata": {},
   "outputs": [
    {
     "name": "stdout",
     "output_type": "stream",
     "text": [
      "I like Oranges    and Melons               a lot.\n"
     ]
    }
   ],
   "source": [
    "txt = \"I like {:<10} and {:<20} a lot.\".format(\"Oranges\", \"Melons\")\n",
    "print(txt)"
   ]
  },
  {
   "cell_type": "markdown",
   "id": "6cde8c58",
   "metadata": {},
   "source": [
    "### (3) :> \n",
    "\n",
    "right-alignes within the available space.\n",
    "\n",
    "Is it n spaces and `variable`???"
   ]
  },
  {
   "cell_type": "code",
   "execution_count": 6,
   "id": "31f59076",
   "metadata": {
    "scrolled": true
   },
   "outputs": [
    {
     "name": "stdout",
     "output_type": "stream",
     "text": [
      "I like    Oranges and               Melons a lot.\n"
     ]
    }
   ],
   "source": [
    "txt = \"I like {:>10} and {:>20} a lot.\".format(\"Oranges\", \"Melons\")\n",
    "print(txt)"
   ]
  },
  {
   "cell_type": "markdown",
   "id": "891c9ba7",
   "metadata": {},
   "source": [
    "### (4) :^\n",
    "\n",
    "center-aligns within the available space.\n",
    "\n",
    "Is it n/2 spaces, `variable` and n/2 spaces??? "
   ]
  },
  {
   "cell_type": "code",
   "execution_count": 7,
   "id": "fd1dd152",
   "metadata": {},
   "outputs": [
    {
     "name": "stdout",
     "output_type": "stream",
     "text": [
      "I like  Oranges   and        Melons        a lot.\n"
     ]
    }
   ],
   "source": [
    "txt = \"I like {:^10} and {:^20} a lot.\".format(\"Oranges\", \"Melons\")\n",
    "print(txt)"
   ]
  },
  {
   "cell_type": "markdown",
   "id": "7ab0289d",
   "metadata": {},
   "source": [
    "### (5) :=\n",
    "\n",
    "places the minus sign to the left most position."
   ]
  },
  {
   "cell_type": "code",
   "execution_count": 8,
   "id": "2ae5b213",
   "metadata": {},
   "outputs": [
    {
     "name": "stdout",
     "output_type": "stream",
     "text": [
      "It is          5 degrees outside and -                  2 degrees inside.\n"
     ]
    }
   ],
   "source": [
    "txt = \"It is {:=10} degrees outside and {:=20} degrees inside.\".format(+5, -2)\n",
    "print(txt)"
   ]
  },
  {
   "cell_type": "markdown",
   "id": "15329051",
   "metadata": {},
   "source": [
    "### (6) :+\n",
    "\n",
    "Use a plus sign to indicate if the result is positive or negative."
   ]
  },
  {
   "cell_type": "code",
   "execution_count": 9,
   "id": "c27a6be7",
   "metadata": {},
   "outputs": [
    {
     "name": "stdout",
     "output_type": "stream",
     "text": [
      "It is         +5 degrees outside and                   -2 degrees inside.\n"
     ]
    }
   ],
   "source": [
    "txt = \"It is {:+10} degrees outside and {:+20} degrees inside.\".format(+5, -2)\n",
    "print(txt)"
   ]
  },
  {
   "cell_type": "markdown",
   "id": "ff48418c",
   "metadata": {},
   "source": [
    "### (7) :-\t\t\n",
    "Use a minus sign for negative values only."
   ]
  },
  {
   "cell_type": "code",
   "execution_count": 10,
   "id": "c98d04aa",
   "metadata": {},
   "outputs": [
    {
     "name": "stdout",
     "output_type": "stream",
     "text": [
      "It is          5 degrees outside and                   -2 degrees inside.\n"
     ]
    }
   ],
   "source": [
    "txt = \"It is {:-10} degrees outside and {:-20} degrees inside.\".format(+5, -2)\n",
    "print(txt)"
   ]
  },
  {
   "cell_type": "markdown",
   "id": "e699c4c7",
   "metadata": {},
   "source": [
    "### (8) : \t\t\n",
    "Use a space to insert an extra space before positive numbers (and a minus sign before negative numbers)"
   ]
  },
  {
   "cell_type": "code",
   "execution_count": 11,
   "id": "cd8769fd",
   "metadata": {},
   "outputs": [
    {
     "name": "stdout",
     "output_type": "stream",
     "text": [
      "It is          5 degrees outside and                   -2 degrees inside.\n"
     ]
    }
   ],
   "source": [
    "txt = \"It is {:10} degrees outside and {:20} degrees inside.\".format(+5, -2)\n",
    "print(txt)"
   ]
  },
  {
   "cell_type": "markdown",
   "id": "bbeb2c33",
   "metadata": {},
   "source": [
    "### (9) :,\t\n",
    "Use a comma as a thousand separator"
   ]
  },
  {
   "cell_type": "code",
   "execution_count": 12,
   "id": "005d65d0",
   "metadata": {},
   "outputs": [
    {
     "name": "stdout",
     "output_type": "stream",
     "text": [
      "Count from -20,000 to 9,000,000 while I cook.\n"
     ]
    }
   ],
   "source": [
    "txt = \"Count from {:,} to {:,} while I cook.\".format(-20000, 9000000)\n",
    "print(txt)"
   ]
  },
  {
   "cell_type": "markdown",
   "id": "8e896cdd",
   "metadata": {},
   "source": [
    "### (10) :_\t\t\n",
    "Use a underscore as a thousand separator"
   ]
  },
  {
   "cell_type": "code",
   "execution_count": 13,
   "id": "e17f1d34",
   "metadata": {},
   "outputs": [
    {
     "name": "stdout",
     "output_type": "stream",
     "text": [
      "Count from -20_000 to 9_000_000 while I cook.\n"
     ]
    }
   ],
   "source": [
    "txt = \"Count from {:_} to {:_} while I cook.\".format(-20000, 9000000)\n",
    "print(txt)"
   ]
  },
  {
   "cell_type": "markdown",
   "id": "1eb3fb18",
   "metadata": {},
   "source": [
    "### (11) :b\t\t\n",
    "Binary format"
   ]
  },
  {
   "cell_type": "code",
   "execution_count": 14,
   "id": "59f93ae1",
   "metadata": {
    "scrolled": true
   },
   "outputs": [
    {
     "name": "stdout",
     "output_type": "stream",
     "text": [
      "9 is 1001 in binary system.\n"
     ]
    }
   ],
   "source": [
    "txt = \"9 is {:b} in binary system.\".format(9)\n",
    "print(txt)"
   ]
  },
  {
   "cell_type": "markdown",
   "id": "204d16e3",
   "metadata": {},
   "source": [
    "### (12) :e\t\t\n",
    "Scientific format, with a lower case e"
   ]
  },
  {
   "cell_type": "code",
   "execution_count": 15,
   "id": "112f8e0b",
   "metadata": {
    "scrolled": true
   },
   "outputs": [
    {
     "name": "stdout",
     "output_type": "stream",
     "text": [
      "What is the scientific format of 9.000000e+00?\n"
     ]
    }
   ],
   "source": [
    "txt = \"What is the scientific format of {:e}?\".format(9)\n",
    "print(txt)"
   ]
  },
  {
   "cell_type": "markdown",
   "id": "b8223da0",
   "metadata": {},
   "source": [
    "### (13) :E\n",
    "Scientific format, with an upper case E"
   ]
  },
  {
   "cell_type": "code",
   "execution_count": 16,
   "id": "3dfce0bc",
   "metadata": {
    "scrolled": true
   },
   "outputs": [
    {
     "name": "stdout",
     "output_type": "stream",
     "text": [
      "What is the scientific format of 9.000000E+00?\n"
     ]
    }
   ],
   "source": [
    "txt = \"What is the scientific format of {:E}?\".format(9)\n",
    "print(txt)"
   ]
  },
  {
   "cell_type": "markdown",
   "id": "cdecea12",
   "metadata": {},
   "source": [
    "### (14) :f\n",
    "Fix point number format, default with 6 decimals."
   ]
  },
  {
   "cell_type": "code",
   "execution_count": 17,
   "id": "45b916e4",
   "metadata": {
    "scrolled": true
   },
   "outputs": [
    {
     "name": "stdout",
     "output_type": "stream",
     "text": [
      "9 is denoted by 9.00 here and 9.000000 there.\n"
     ]
    }
   ],
   "source": [
    "txt = \"9 is denoted by {:.2f} here and {:f} there.\".format(9, 9)\n",
    "print(txt)"
   ]
  },
  {
   "cell_type": "markdown",
   "id": "74cec9b2",
   "metadata": {},
   "source": [
    "### (15) :F\n",
    "Fix point number format, in uppercase format (show inf and nan as INF and NAN)"
   ]
  },
  {
   "cell_type": "code",
   "execution_count": 18,
   "id": "b1da149f",
   "metadata": {},
   "outputs": [
    {
     "name": "stdout",
     "output_type": "stream",
     "text": [
      "9 is denoted by 9.00 here and 9.000000 there.\n"
     ]
    }
   ],
   "source": [
    "txt = \"9 is denoted by {:.2F} here and {:F} there.\".format(9, 9)\n",
    "print(txt)"
   ]
  },
  {
   "cell_type": "code",
   "execution_count": 19,
   "id": "7d893a03",
   "metadata": {
    "scrolled": true
   },
   "outputs": [
    {
     "name": "stdout",
     "output_type": "stream",
     "text": [
      "A is INF and B is NAN.\n",
      "A is inf and B is nan.\n"
     ]
    }
   ],
   "source": [
    "x = float('inf')\n",
    "y = float('nan')\n",
    "\n",
    "\n",
    "txt1 = \"A is {:F} and B is {:F}.\".format(x,y)\n",
    "print(txt1)\n",
    "\n",
    "\n",
    "txt2 = \"A is {:f} and B is {:f}.\".format(x,y)\n",
    "print(txt2)"
   ]
  },
  {
   "cell_type": "markdown",
   "id": "db5ea156",
   "metadata": {},
   "source": [
    "### (16) :o\t\t\n",
    "Octal format"
   ]
  },
  {
   "cell_type": "code",
   "execution_count": 20,
   "id": "df6cbcc9",
   "metadata": {},
   "outputs": [
    {
     "name": "stdout",
     "output_type": "stream",
     "text": [
      "9 is 11 in octal system.\n"
     ]
    }
   ],
   "source": [
    "txt = \"9 is {:o} in octal system.\".format(9)\n",
    "print(txt)"
   ]
  },
  {
   "cell_type": "markdown",
   "id": "e2baf1db",
   "metadata": {},
   "source": [
    "### (17) :x\t\t\n",
    "Hex format, lower case"
   ]
  },
  {
   "cell_type": "code",
   "execution_count": 21,
   "id": "452041c4",
   "metadata": {
    "scrolled": true
   },
   "outputs": [
    {
     "name": "stdout",
     "output_type": "stream",
     "text": [
      "107 is represented as 6b in hexadecimal representation.\n"
     ]
    }
   ],
   "source": [
    "txt = \"107 is represented as {:x} in hexadecimal representation.\".format(107)\n",
    "print(txt)"
   ]
  },
  {
   "cell_type": "markdown",
   "id": "2a17fd9b",
   "metadata": {},
   "source": [
    "### (18) :X\t\n",
    "Hex format, upper case"
   ]
  },
  {
   "cell_type": "code",
   "execution_count": 22,
   "id": "260be3df",
   "metadata": {},
   "outputs": [
    {
     "name": "stdout",
     "output_type": "stream",
     "text": [
      "107 is represented as 6B in hexadecimal.\n"
     ]
    }
   ],
   "source": [
    "txt = \"107 is represented as {:X} in hexadecimal.\".format(107)\n",
    "print(txt)"
   ]
  },
  {
   "cell_type": "markdown",
   "id": "d770131b",
   "metadata": {},
   "source": [
    "### (19) :%\t\t\n",
    "Percentage format"
   ]
  },
  {
   "cell_type": "code",
   "execution_count": 23,
   "id": "3c94a9c6",
   "metadata": {},
   "outputs": [
    {
     "name": "stdout",
     "output_type": "stream",
     "text": [
      "19.000000% of the universe\n",
      "19% of the universe\n"
     ]
    }
   ],
   "source": [
    "txt1 = \"{:%} of the universe\".format(0.19)\n",
    "print(txt1)\n",
    "\n",
    "\n",
    "txt2 = \"{:.0%} of the universe\".format(0.19)\n",
    "print(txt2)"
   ]
  },
  {
   "cell_type": "markdown",
   "id": "e60eebea",
   "metadata": {},
   "source": [
    "### (20) Applications"
   ]
  },
  {
   "cell_type": "code",
   "execution_count": 24,
   "id": "ec78a6b8",
   "metadata": {},
   "outputs": [
    {
     "name": "stdout",
     "output_type": "stream",
     "text": [
      "Music                  2021   2020   2019   2018   2017\n",
      "Claasic                   5      5      5      5      5\n",
      "Jazz                      5      5      3      3      3\n",
      "Rock                      3      3      2      2      2\n",
      "Pop                       2      2      1      1      1\n",
      "Others                    5      5      4      3      3\n"
     ]
    }
   ],
   "source": [
    "popularity = [[\"Music\", 2021, 2020, 2019, 2018, 2017], \n",
    "          [\"Claasic\", 5, 5, 5, 5, 5],\n",
    "          [\"Jazz\", 5, 5, 3, 3, 3],\n",
    "          [\"Rock\", 3, 3, 2, 2, 2],\n",
    "          [\"Pop\", 2, 2, 1, 1, 1],\n",
    "          [\"Others\", 5, 5, 4, 3, 3]]\n",
    "string_format = \"{:<20}  {:>5}  {:>5}  {:>5}  {:>5}  {:>5}\"\n",
    "\n",
    "for n in popularity:\n",
    "    print(string_format.format(*n))"
   ]
  }
 ],
 "metadata": {
  "kernelspec": {
   "display_name": "Python 3",
   "language": "python",
   "name": "python3"
  },
  "language_info": {
   "codemirror_mode": {
    "name": "ipython",
    "version": 3
   },
   "file_extension": ".py",
   "mimetype": "text/x-python",
   "name": "python",
   "nbconvert_exporter": "python",
   "pygments_lexer": "ipython3",
   "version": "3.8.10"
  }
 },
 "nbformat": 4,
 "nbformat_minor": 5
}
