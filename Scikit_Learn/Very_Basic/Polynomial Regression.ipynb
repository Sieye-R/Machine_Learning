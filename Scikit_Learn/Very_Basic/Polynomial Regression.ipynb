{
 "cells": [
  {
   "cell_type": "markdown",
   "id": "8dc10877",
   "metadata": {},
   "source": [
    "# Polynomial Regression"
   ]
  },
  {
   "cell_type": "markdown",
   "id": "00e625f5",
   "metadata": {},
   "source": [
    "In this notebook, we study polynomial regression. \n",
    "\n",
    "The example is coming from \n",
    "<a href=\"https://en.wikipedia.org/wiki/Logistic_regression\">Logistic regression in Wikipedia</a>.\n",
    "I also studied <a href=\"https://github.com/Sieye-R/Machine_Learning/blob/main/Scikit_Learn/Very_Basic/Simple%20Linear%20Regression.ipynb\">simple linear regression</a> with this example.\n",
    "\n",
    "The table indicates the number of hours twenty students spent studying for an exam and whether or not they passed (1) or faild (0)."
   ]
  },
  {
   "cell_type": "code",
   "execution_count": 1,
   "id": "545f028e",
   "metadata": {},
   "outputs": [
    {
     "data": {
      "text/html": [
       "<div>\n",
       "<style scoped>\n",
       "    .dataframe tbody tr th:only-of-type {\n",
       "        vertical-align: middle;\n",
       "    }\n",
       "\n",
       "    .dataframe tbody tr th {\n",
       "        vertical-align: top;\n",
       "    }\n",
       "\n",
       "    .dataframe thead th {\n",
       "        text-align: right;\n",
       "    }\n",
       "</style>\n",
       "<table border=\"1\" class=\"dataframe\">\n",
       "  <thead>\n",
       "    <tr style=\"text-align: right;\">\n",
       "      <th></th>\n",
       "      <th>Hours</th>\n",
       "      <th>Result</th>\n",
       "    </tr>\n",
       "  </thead>\n",
       "  <tbody>\n",
       "    <tr>\n",
       "      <th>0</th>\n",
       "      <td>0.50</td>\n",
       "      <td>0</td>\n",
       "    </tr>\n",
       "    <tr>\n",
       "      <th>1</th>\n",
       "      <td>0.75</td>\n",
       "      <td>0</td>\n",
       "    </tr>\n",
       "    <tr>\n",
       "      <th>2</th>\n",
       "      <td>1.00</td>\n",
       "      <td>0</td>\n",
       "    </tr>\n",
       "    <tr>\n",
       "      <th>3</th>\n",
       "      <td>1.25</td>\n",
       "      <td>0</td>\n",
       "    </tr>\n",
       "    <tr>\n",
       "      <th>4</th>\n",
       "      <td>1.50</td>\n",
       "      <td>0</td>\n",
       "    </tr>\n",
       "    <tr>\n",
       "      <th>5</th>\n",
       "      <td>1.75</td>\n",
       "      <td>0</td>\n",
       "    </tr>\n",
       "    <tr>\n",
       "      <th>6</th>\n",
       "      <td>1.75</td>\n",
       "      <td>1</td>\n",
       "    </tr>\n",
       "    <tr>\n",
       "      <th>7</th>\n",
       "      <td>2.00</td>\n",
       "      <td>0</td>\n",
       "    </tr>\n",
       "    <tr>\n",
       "      <th>8</th>\n",
       "      <td>2.25</td>\n",
       "      <td>1</td>\n",
       "    </tr>\n",
       "    <tr>\n",
       "      <th>9</th>\n",
       "      <td>2.50</td>\n",
       "      <td>0</td>\n",
       "    </tr>\n",
       "    <tr>\n",
       "      <th>10</th>\n",
       "      <td>2.75</td>\n",
       "      <td>1</td>\n",
       "    </tr>\n",
       "    <tr>\n",
       "      <th>11</th>\n",
       "      <td>3.00</td>\n",
       "      <td>0</td>\n",
       "    </tr>\n",
       "    <tr>\n",
       "      <th>12</th>\n",
       "      <td>3.25</td>\n",
       "      <td>1</td>\n",
       "    </tr>\n",
       "    <tr>\n",
       "      <th>13</th>\n",
       "      <td>3.50</td>\n",
       "      <td>0</td>\n",
       "    </tr>\n",
       "    <tr>\n",
       "      <th>14</th>\n",
       "      <td>4.00</td>\n",
       "      <td>1</td>\n",
       "    </tr>\n",
       "    <tr>\n",
       "      <th>15</th>\n",
       "      <td>4.25</td>\n",
       "      <td>1</td>\n",
       "    </tr>\n",
       "    <tr>\n",
       "      <th>16</th>\n",
       "      <td>4.50</td>\n",
       "      <td>1</td>\n",
       "    </tr>\n",
       "    <tr>\n",
       "      <th>17</th>\n",
       "      <td>4.75</td>\n",
       "      <td>1</td>\n",
       "    </tr>\n",
       "    <tr>\n",
       "      <th>18</th>\n",
       "      <td>5.00</td>\n",
       "      <td>1</td>\n",
       "    </tr>\n",
       "    <tr>\n",
       "      <th>19</th>\n",
       "      <td>5.50</td>\n",
       "      <td>1</td>\n",
       "    </tr>\n",
       "  </tbody>\n",
       "</table>\n",
       "</div>"
      ],
      "text/plain": [
       "    Hours  Result\n",
       "0    0.50       0\n",
       "1    0.75       0\n",
       "2    1.00       0\n",
       "3    1.25       0\n",
       "4    1.50       0\n",
       "5    1.75       0\n",
       "6    1.75       1\n",
       "7    2.00       0\n",
       "8    2.25       1\n",
       "9    2.50       0\n",
       "10   2.75       1\n",
       "11   3.00       0\n",
       "12   3.25       1\n",
       "13   3.50       0\n",
       "14   4.00       1\n",
       "15   4.25       1\n",
       "16   4.50       1\n",
       "17   4.75       1\n",
       "18   5.00       1\n",
       "19   5.50       1"
      ]
     },
     "execution_count": 1,
     "metadata": {},
     "output_type": "execute_result"
    }
   ],
   "source": [
    "import pandas as pd\n",
    "df = pd.DataFrame({\n",
    "    'Hours': [0.5, 0.75, 1.0, 1.25, 1.5, 1.75, 1.75, 2.0, 2.25, 2.5, 2.75, 3.0, 3.25, 3.5, 4.0, 4.25, 4.5, 4.75, 5.0, 5.5],\n",
    "    'Result': [0, 0, 0, 0, 0, 0, 1, 0, 1, 0, 1, 0, 1, 0, 1, 1, 1, 1, 1, 1]})\n",
    "df"
   ]
  },
  {
   "cell_type": "markdown",
   "id": "e064b03d",
   "metadata": {},
   "source": [
    "The following is the graph."
   ]
  },
  {
   "cell_type": "code",
   "execution_count": 2,
   "id": "f7507561",
   "metadata": {},
   "outputs": [
    {
     "data": {
      "image/png": "[encoded data removed]",
      "text/plain": [
       "<Figure size 432x288 with 1 Axes>"
      ]
     },
     "metadata": {
      "needs_background": "light"
     },
     "output_type": "display_data"
    }
   ],
   "source": [
    "import matplotlib.pyplot as plt\n",
    "plt.plot(df['Hours'], df['Result'], 'ro')\n",
    "plt.title(\"Study Hours and the Test Results\")\n",
    "plt.show()"
   ]
  },
  {
   "cell_type": "markdown",
   "id": "6bfef2b8",
   "metadata": {},
   "source": [
    "### 1. Linear Regression"
   ]
  },
  {
   "cell_type": "markdown",
   "id": "26bd56ec",
   "metadata": {},
   "source": [
    "We first recall how to construct a linear predictor function with scikit learn."
   ]
  },
  {
   "cell_type": "code",
   "execution_count": 3,
   "id": "7f77cf52",
   "metadata": {},
   "outputs": [],
   "source": [
    "X = df.iloc[:, :-1].values\n",
    "y = df.iloc[:, 1].values"
   ]
  },
  {
   "cell_type": "code",
   "execution_count": 4,
   "id": "98e84f9c",
   "metadata": {},
   "outputs": [
    {
     "data": {
      "text/plain": [
       "LinearRegression()"
      ]
     },
     "execution_count": 4,
     "metadata": {},
     "output_type": "execute_result"
    }
   ],
   "source": [
    "from sklearn.linear_model import LinearRegression\n",
    "regressor = LinearRegression()\n",
    "regressor.fit(X, y)"
   ]
  },
  {
   "cell_type": "markdown",
   "id": "0255efac",
   "metadata": {},
   "source": [
    "The linear predictor function is as follows."
   ]
  },
  {
   "cell_type": "code",
   "execution_count": 5,
   "id": "13a166bb",
   "metadata": {
    "scrolled": true
   },
   "outputs": [
    {
     "name": "stdout",
     "output_type": "stream",
     "text": [
      "The linear predictor function is y = 0.2345956121931792*x + (-0.15393526898848708).\n"
     ]
    }
   ],
   "source": [
    "print(f\"The linear predictor function is y = {regressor.coef_.item()}*x + ({regressor.intercept_}).\")"
   ]
  },
  {
   "cell_type": "markdown",
   "id": "20cecb11",
   "metadata": {},
   "source": [
    "The following is the graph."
   ]
  },
  {
   "cell_type": "code",
   "execution_count": 6,
   "id": "4344575d",
   "metadata": {
    "scrolled": true
   },
   "outputs": [
    {
     "data": {
      "image/png": "[encoded data removed]",
      "text/plain": [
       "<Figure size 432x288 with 1 Axes>"
      ]
     },
     "metadata": {
      "needs_background": "light"
     },
     "output_type": "display_data"
    }
   ],
   "source": [
    "import numpy as np\n",
    "\n",
    "X_new = np.linspace(0,6,10)\n",
    "y_new = regressor.predict(X_new.reshape(-1, 1))\n",
    "\n",
    "plt.plot(X_new, y_new)\n",
    "plt.plot(df['Hours'], df['Result'], 'ro')\n",
    "plt.show()"
   ]
  },
  {
   "cell_type": "markdown",
   "id": "c36bbcc8",
   "metadata": {},
   "source": [
    "### 2. Polynomial Regression"
   ]
  },
  {
   "cell_type": "markdown",
   "id": "e177c1ef",
   "metadata": {},
   "source": [
    "Now we establish polynomial regressions. I do not understand why the bias is required in polynomial regression yet. I do not include the bias.\n",
    "Constructing polynomial regression is actually the same as how to construct a linear regression.\n",
    "We first construct the polynomial regression of the second degree.\n",
    "since we exclude the bias, we have two independent variables, `Hours` and `Hours^2`. The following is the data for the polynomial regression of the second degree."
   ]
  },
  {
   "cell_type": "code",
   "execution_count": 7,
   "id": "7fd3be87",
   "metadata": {},
   "outputs": [
    {
     "data": {
      "text/html": [
       "<div>\n",
       "<style scoped>\n",
       "    .dataframe tbody tr th:only-of-type {\n",
       "        vertical-align: middle;\n",
       "    }\n",
       "\n",
       "    .dataframe tbody tr th {\n",
       "        vertical-align: top;\n",
       "    }\n",
       "\n",
       "    .dataframe thead th {\n",
       "        text-align: right;\n",
       "    }\n",
       "</style>\n",
       "<table border=\"1\" class=\"dataframe\">\n",
       "  <thead>\n",
       "    <tr style=\"text-align: right;\">\n",
       "      <th></th>\n",
       "      <th>Hours</th>\n",
       "      <th>Hours^2</th>\n",
       "      <th>result</th>\n",
       "    </tr>\n",
       "  </thead>\n",
       "  <tbody>\n",
       "    <tr>\n",
       "      <th>0</th>\n",
       "      <td>0.50</td>\n",
       "      <td>0.2500</td>\n",
       "      <td>0</td>\n",
       "    </tr>\n",
       "    <tr>\n",
       "      <th>1</th>\n",
       "      <td>0.75</td>\n",
       "      <td>0.5625</td>\n",
       "      <td>0</td>\n",
       "    </tr>\n",
       "    <tr>\n",
       "      <th>2</th>\n",
       "      <td>1.00</td>\n",
       "      <td>1.0000</td>\n",
       "      <td>0</td>\n",
       "    </tr>\n",
       "    <tr>\n",
       "      <th>3</th>\n",
       "      <td>1.25</td>\n",
       "      <td>1.5625</td>\n",
       "      <td>0</td>\n",
       "    </tr>\n",
       "    <tr>\n",
       "      <th>4</th>\n",
       "      <td>1.50</td>\n",
       "      <td>2.2500</td>\n",
       "      <td>0</td>\n",
       "    </tr>\n",
       "    <tr>\n",
       "      <th>5</th>\n",
       "      <td>1.75</td>\n",
       "      <td>3.0625</td>\n",
       "      <td>0</td>\n",
       "    </tr>\n",
       "    <tr>\n",
       "      <th>6</th>\n",
       "      <td>1.75</td>\n",
       "      <td>3.0625</td>\n",
       "      <td>1</td>\n",
       "    </tr>\n",
       "    <tr>\n",
       "      <th>7</th>\n",
       "      <td>2.00</td>\n",
       "      <td>4.0000</td>\n",
       "      <td>0</td>\n",
       "    </tr>\n",
       "    <tr>\n",
       "      <th>8</th>\n",
       "      <td>2.25</td>\n",
       "      <td>5.0625</td>\n",
       "      <td>1</td>\n",
       "    </tr>\n",
       "    <tr>\n",
       "      <th>9</th>\n",
       "      <td>2.50</td>\n",
       "      <td>6.2500</td>\n",
       "      <td>0</td>\n",
       "    </tr>\n",
       "    <tr>\n",
       "      <th>10</th>\n",
       "      <td>2.75</td>\n",
       "      <td>7.5625</td>\n",
       "      <td>1</td>\n",
       "    </tr>\n",
       "    <tr>\n",
       "      <th>11</th>\n",
       "      <td>3.00</td>\n",
       "      <td>9.0000</td>\n",
       "      <td>0</td>\n",
       "    </tr>\n",
       "    <tr>\n",
       "      <th>12</th>\n",
       "      <td>3.25</td>\n",
       "      <td>10.5625</td>\n",
       "      <td>1</td>\n",
       "    </tr>\n",
       "    <tr>\n",
       "      <th>13</th>\n",
       "      <td>3.50</td>\n",
       "      <td>12.2500</td>\n",
       "      <td>0</td>\n",
       "    </tr>\n",
       "    <tr>\n",
       "      <th>14</th>\n",
       "      <td>4.00</td>\n",
       "      <td>16.0000</td>\n",
       "      <td>1</td>\n",
       "    </tr>\n",
       "    <tr>\n",
       "      <th>15</th>\n",
       "      <td>4.25</td>\n",
       "      <td>18.0625</td>\n",
       "      <td>1</td>\n",
       "    </tr>\n",
       "    <tr>\n",
       "      <th>16</th>\n",
       "      <td>4.50</td>\n",
       "      <td>20.2500</td>\n",
       "      <td>1</td>\n",
       "    </tr>\n",
       "    <tr>\n",
       "      <th>17</th>\n",
       "      <td>4.75</td>\n",
       "      <td>22.5625</td>\n",
       "      <td>1</td>\n",
       "    </tr>\n",
       "    <tr>\n",
       "      <th>18</th>\n",
       "      <td>5.00</td>\n",
       "      <td>25.0000</td>\n",
       "      <td>1</td>\n",
       "    </tr>\n",
       "    <tr>\n",
       "      <th>19</th>\n",
       "      <td>5.50</td>\n",
       "      <td>30.2500</td>\n",
       "      <td>1</td>\n",
       "    </tr>\n",
       "  </tbody>\n",
       "</table>\n",
       "</div>"
      ],
      "text/plain": [
       "    Hours  Hours^2  result\n",
       "0    0.50   0.2500       0\n",
       "1    0.75   0.5625       0\n",
       "2    1.00   1.0000       0\n",
       "3    1.25   1.5625       0\n",
       "4    1.50   2.2500       0\n",
       "5    1.75   3.0625       0\n",
       "6    1.75   3.0625       1\n",
       "7    2.00   4.0000       0\n",
       "8    2.25   5.0625       1\n",
       "9    2.50   6.2500       0\n",
       "10   2.75   7.5625       1\n",
       "11   3.00   9.0000       0\n",
       "12   3.25  10.5625       1\n",
       "13   3.50  12.2500       0\n",
       "14   4.00  16.0000       1\n",
       "15   4.25  18.0625       1\n",
       "16   4.50  20.2500       1\n",
       "17   4.75  22.5625       1\n",
       "18   5.00  25.0000       1\n",
       "19   5.50  30.2500       1"
      ]
     },
     "execution_count": 7,
     "metadata": {},
     "output_type": "execute_result"
    }
   ],
   "source": [
    "from sklearn.preprocessing import PolynomialFeatures\n",
    "PolyFeats = PolynomialFeatures(degree=2, include_bias=False)\n",
    "dfpoly = pd.DataFrame(PolyFeats.fit_transform(X), columns=('Hours', 'Hours^2'))\n",
    "dfpoly['result'] = df['Result']\n",
    "dfpoly"
   ]
  },
  {
   "cell_type": "markdown",
   "id": "05f7dea7",
   "metadata": {},
   "source": [
    "Let's find the formula of the polynomial regression of the second degree."
   ]
  },
  {
   "cell_type": "code",
   "execution_count": 8,
   "id": "a8fcd678",
   "metadata": {},
   "outputs": [],
   "source": [
    "dX = dfpoly.iloc[:, :-1].values\n",
    "dy = dfpoly.iloc[:, 1].values"
   ]
  },
  {
   "cell_type": "code",
   "execution_count": 9,
   "id": "0b03dada",
   "metadata": {},
   "outputs": [
    {
     "name": "stdout",
     "output_type": "stream",
     "text": [
      "The coefficients are [ 0.28242337 -0.00810915] and the intercept is -0.20674647408291502.\n"
     ]
    }
   ],
   "source": [
    "from sklearn.linear_model import LinearRegression\n",
    "from sklearn.preprocessing import PolynomialFeatures\n",
    "polyreg = PolynomialFeatures(degree=2, include_bias=False)\n",
    "X_poly = polyreg.fit_transform(X)\n",
    "\n",
    "regressor = LinearRegression()\n",
    "regressor.fit(X_poly, y)\n",
    "\n",
    "second = f\"The coefficients are {regressor.coef_} and the intercept is {regressor.intercept_}.\"\n",
    "print(second)"
   ]
  },
  {
   "cell_type": "markdown",
   "id": "89b36813",
   "metadata": {},
   "source": [
    "So what is the formula?"
   ]
  },
  {
   "cell_type": "code",
   "execution_count": 10,
   "id": "e8c8b71c",
   "metadata": {
    "scrolled": true
   },
   "outputs": [
    {
     "name": "stdout",
     "output_type": "stream",
     "text": [
      "The polynomial regression of the second degree is y = -0.2067 + (0.2824) Hours + (-0.0081) Hours^2.\n"
     ]
    }
   ],
   "source": [
    "coef_list = list(regressor.coef_)\n",
    "new_second = \"The polynomial regression of the second degree is \\\n",
    "y = %.4f + (%.4f) Hours + (%.4f) Hours^2.\" %(regressor.intercept_, coef_list[0], coef_list[1])\n",
    "print(new_second)"
   ]
  },
  {
   "cell_type": "markdown",
   "id": "de4a328c",
   "metadata": {},
   "source": [
    "How can we draw its graph?"
   ]
  },
  {
   "cell_type": "code",
   "execution_count": 11,
   "id": "c17c6ce7",
   "metadata": {},
   "outputs": [],
   "source": [
    "from sklearn.preprocessing import PolynomialFeatures\n",
    "from sklearn.pipeline import make_pipeline"
   ]
  },
  {
   "cell_type": "code",
   "execution_count": 12,
   "id": "e8f0b468",
   "metadata": {},
   "outputs": [
    {
     "data": {
      "image/png": "[encoded data removed]",
      "text/plain": [
       "<Figure size 432x288 with 1 Axes>"
      ]
     },
     "metadata": {
      "needs_background": "light"
     },
     "output_type": "display_data"
    }
   ],
   "source": [
    "polyregpipe=make_pipeline(PolynomialFeatures(degree=2, include_bias=False), LinearRegression())\n",
    "polyregpipe.fit(X,y)\n",
    "\n",
    "plt.figure()\n",
    "plt.scatter(X,y)\n",
    "plt.plot(X, polyregpipe.predict(X))\n",
    "plt.plot(df['Hours'], df['Result'], 'ro')\n",
    "plt.title(\"Polynomial regression of the second degree\")\n",
    "plt.show()"
   ]
  },
  {
   "cell_type": "markdown",
   "id": "278d384d",
   "metadata": {},
   "source": [
    "Now we want to compare the polynomial regression of the second degree with the linear regression. In the below, the red dots indicate the original data. The orange one is the linear regression and the blue one is the polynomial regression of the second degree."
   ]
  },
  {
   "cell_type": "code",
   "execution_count": 13,
   "id": "2094eaa9",
   "metadata": {},
   "outputs": [
    {
     "data": {
      "image/png": "[encoded data removed]",
      "text/plain": [
       "<Figure size 432x288 with 1 Axes>"
      ]
     },
     "metadata": {
      "needs_background": "light"
     },
     "output_type": "display_data"
    }
   ],
   "source": [
    "polyregpipe=make_pipeline(PolynomialFeatures(degree=2, include_bias=False), LinearRegression())\n",
    "polyregpipe.fit(X,y)\n",
    "\n",
    "plt.figure()\n",
    "plt.scatter(X,y)\n",
    "plt.plot(X, polyregpipe.predict(X), 'b')\n",
    "plt.plot(df['Hours'], df['Result'], 'ro')\n",
    "plt.plot(X_new, y_new, 'orange')\n",
    "plt.title(\"Linear regression and Polynomial regression of the second degree\")\n",
    "plt.show()"
   ]
  },
  {
   "cell_type": "markdown",
   "id": "a2e1b38b",
   "metadata": {},
   "source": [
    "Now, we establish two functions.\n",
    "When we pass n, one function shows the formula of the polynomial regression of the n-th degree and the other one provides its graph. Let's begin with the first one."
   ]
  },
  {
   "cell_type": "code",
   "execution_count": 14,
   "id": "2112b4be",
   "metadata": {},
   "outputs": [],
   "source": [
    "from sklearn.linear_model import LinearRegression\n",
    "from sklearn.preprocessing import PolynomialFeatures\n",
    "\n",
    "def poly_regression(degree=2):\n",
    "    polyreg = PolynomialFeatures(degree, include_bias=False)\n",
    "    X_poly = polyreg.fit_transform(X)\n",
    "\n",
    "    regressor = LinearRegression()\n",
    "    regressor.fit(X_poly, y)\n",
    "\n",
    "    result = f\"The coefficients are {regressor.coef_} and the intercept is {regressor.intercept_}.\"\n",
    "    return result"
   ]
  },
  {
   "cell_type": "code",
   "execution_count": 15,
   "id": "05c00ca1",
   "metadata": {},
   "outputs": [
    {
     "data": {
      "text/plain": [
       "'The coefficients are [ 0.28242337 -0.00810915] and the intercept is -0.20674647408291502.'"
      ]
     },
     "execution_count": 15,
     "metadata": {},
     "output_type": "execute_result"
    }
   ],
   "source": [
    "poly_regression(degree=2)"
   ]
  },
  {
   "cell_type": "markdown",
   "id": "e4d5ca71",
   "metadata": {},
   "source": [
    "The formula is not good for human being."
   ]
  },
  {
   "cell_type": "code",
   "execution_count": 16,
   "id": "b7ccf0dc",
   "metadata": {},
   "outputs": [],
   "source": [
    "from sklearn.linear_model import LinearRegression\n",
    "from sklearn.preprocessing import PolynomialFeatures\n",
    "\n",
    "def final(my_list):\n",
    "    \n",
    "    result = str(my_list[0])\n",
    "    index_list = list(range(len(my_list)))\n",
    "    as_dict = dict(zip(index_list, my_list))\n",
    "\n",
    "    for n in index_list[1:]:\n",
    "        if as_dict.get(n) >= 0:\n",
    "            result = result + \" + \" + str(as_dict.get(n)) + f\" x^{n}\"\n",
    "        else:\n",
    "            result = result + \" + \" + \"(\" + str(as_dict.get(n)) + \")\" + f\" x^{n}\"\n",
    "    return \"y = \" + result\n",
    "\n",
    "def poly_regression(degree=2):\n",
    "    polyreg = PolynomialFeatures(degree, include_bias=False)\n",
    "    X_poly = polyreg.fit_transform(X)\n",
    "\n",
    "    regressor = LinearRegression()\n",
    "    regressor.fit(X_poly, y)\n",
    "\n",
    "    coef_list = list(regressor.coef_)\n",
    "    coef_list.insert(0, regressor.intercept_)   \n",
    "    \n",
    "    return coef_list"
   ]
  },
  {
   "cell_type": "code",
   "execution_count": 17,
   "id": "a7d104c5",
   "metadata": {},
   "outputs": [
    {
     "data": {
      "text/plain": [
       "'y = -0.20674647408291502 + 0.2824233679674526 x^1 + (-0.008109150934981093) x^2'"
      ]
     },
     "execution_count": 17,
     "metadata": {},
     "output_type": "execute_result"
    }
   ],
   "source": [
    "final(poly_regression(degree=2))"
   ]
  },
  {
   "cell_type": "markdown",
   "id": "d7d52c9f",
   "metadata": {},
   "source": [
    "It is better, isn't it? Let's pass 5!"
   ]
  },
  {
   "cell_type": "code",
   "execution_count": 18,
   "id": "53fb3dea",
   "metadata": {
    "scrolled": true
   },
   "outputs": [
    {
     "data": {
      "text/plain": [
       "'y = 0.6734405846218916 + (-2.4326669952502287) x^1 + 2.7192877606301415 x^2 + (-1.171894070754416) x^3 + 0.22301841400742262 x^4 + (-0.015440177488375895) x^5'"
      ]
     },
     "execution_count": 18,
     "metadata": {},
     "output_type": "execute_result"
    }
   ],
   "source": [
    "final(poly_regression(degree=5))"
   ]
  },
  {
   "cell_type": "markdown",
   "id": "afac498d",
   "metadata": {},
   "source": [
    "It is too long! Let's round to 4 decimals!"
   ]
  },
  {
   "cell_type": "code",
   "execution_count": 19,
   "id": "a70592d1",
   "metadata": {},
   "outputs": [],
   "source": [
    "from sklearn.linear_model import LinearRegression\n",
    "from sklearn.preprocessing import PolynomialFeatures\n",
    "\n",
    "def final(my_list):\n",
    "    \n",
    "    result = str(round(my_list[0], 4))\n",
    "    index_list = list(range(len(my_list)))\n",
    "    as_dict = dict(zip(index_list, my_list))\n",
    "\n",
    "    for n in index_list[1:]:\n",
    "        if as_dict.get(n) >= 0:\n",
    "            result = result + \" + \" + str(round(as_dict.get(n), 4)) + f\" x^{n}\"\n",
    "        else:\n",
    "            result = result + \" + \" + \"(\" + str(round(as_dict.get(n), 4)) + \")\" + f\" x^{n}\"\n",
    "    return \"y = \" + result\n",
    "\n",
    "def poly_regression(degree=2):\n",
    "    polyreg = PolynomialFeatures(degree, include_bias=False)\n",
    "    X_poly = polyreg.fit_transform(X)\n",
    "\n",
    "    regressor = LinearRegression()\n",
    "    regressor.fit(X_poly, y)\n",
    "\n",
    "    coef_list = list(regressor.coef_)\n",
    "    coef_list.insert(0, regressor.intercept_)   \n",
    "    \n",
    "    return coef_list"
   ]
  },
  {
   "cell_type": "markdown",
   "id": "aa5f5a70",
   "metadata": {},
   "source": [
    "Let's pass 7!"
   ]
  },
  {
   "cell_type": "code",
   "execution_count": 20,
   "id": "da944ead",
   "metadata": {},
   "outputs": [
    {
     "data": {
      "text/plain": [
       "'y = -1.5515 + 8.0388 x^1 + (-15.4319) x^2 + 14.0746 x^3 + (-6.62) x^4 + 1.6579 x^5 + (-0.2098) x^6 + 0.0105 x^7'"
      ]
     },
     "execution_count": 20,
     "metadata": {},
     "output_type": "execute_result"
    }
   ],
   "source": [
    "final(poly_regression(degree=7))"
   ]
  },
  {
   "cell_type": "markdown",
   "id": "9c969854",
   "metadata": {},
   "source": [
    "It is much better! \n",
    "Now, we estblish the second function to obtin the graphs."
   ]
  },
  {
   "cell_type": "code",
   "execution_count": 21,
   "id": "d40655f5",
   "metadata": {},
   "outputs": [],
   "source": [
    "# We define the following dictionary for the title of plots.\n",
    "dic_for_degree = {\n",
    "    2 : \"second\",\n",
    "    3 : \"third\",\n",
    "    4 : \"fourth\",\n",
    "    5 : \"fifth\",\n",
    "    6 : \"sixth\",\n",
    "    7 : \"seventh\",\n",
    "    8 : \"eighth\",\n",
    "    9 : \"nineth\",\n",
    "    10 : \"tenth\"\n",
    "}\n",
    "\n",
    "\n",
    "def poly_graph(degree=2):\n",
    "    polyregpipe=make_pipeline(PolynomialFeatures(degree, include_bias=False), LinearRegression())\n",
    "    polyregpipe.fit(X,y)\n",
    "\n",
    "    \n",
    "    plt.scatter(X,y)\n",
    "    plt.plot(X, polyregpipe.predict(X))\n",
    "    plt.plot(df['Hours'], df['Result'], 'ro')\n",
    "    plt.title(f\"Polynomial regression of the {dic_for_degree.get(degree)} degree\")\n",
    "    plt.show()\n",
    "    return plt.figure()"
   ]
  },
  {
   "cell_type": "markdown",
   "id": "9283d485",
   "metadata": {},
   "source": [
    "Does it work well?"
   ]
  },
  {
   "cell_type": "code",
   "execution_count": 22,
   "id": "c9730cad",
   "metadata": {},
   "outputs": [
    {
     "data": {
      "image/png": "[encoded data removed]",
      "text/plain": [
       "<Figure size 432x288 with 1 Axes>"
      ]
     },
     "metadata": {
      "needs_background": "light"
     },
     "output_type": "display_data"
    },
    {
     "data": {
      "text/plain": [
       "<Figure size 432x288 with 0 Axes>"
      ]
     },
     "execution_count": 22,
     "metadata": {},
     "output_type": "execute_result"
    },
    {
     "data": {
      "text/plain": [
       "<Figure size 432x288 with 0 Axes>"
      ]
     },
     "metadata": {},
     "output_type": "display_data"
    }
   ],
   "source": [
    "poly_graph(degree=2)"
   ]
  },
  {
   "cell_type": "code",
   "execution_count": 23,
   "id": "2f262193",
   "metadata": {},
   "outputs": [
    {
     "data": {
      "image/png": "[encoded data removed]",
      "text/plain": [
       "<Figure size 432x288 with 1 Axes>"
      ]
     },
     "metadata": {
      "needs_background": "light"
     },
     "output_type": "display_data"
    },
    {
     "data": {
      "text/plain": [
       "<Figure size 432x288 with 0 Axes>"
      ]
     },
     "execution_count": 23,
     "metadata": {},
     "output_type": "execute_result"
    },
    {
     "data": {
      "text/plain": [
       "<Figure size 432x288 with 0 Axes>"
      ]
     },
     "metadata": {},
     "output_type": "display_data"
    }
   ],
   "source": [
    "poly_graph(degree=5)"
   ]
  },
  {
   "cell_type": "markdown",
   "id": "e437441b",
   "metadata": {},
   "source": [
    "When we need polynomial regressions of several degrees, I believe the above is better than copy and paste!\n",
    "The following is a direct programming to see the graph of the polynomial regression of the fifth degree."
   ]
  },
  {
   "cell_type": "code",
   "execution_count": 24,
   "id": "9bfcadae",
   "metadata": {},
   "outputs": [
    {
     "data": {
      "image/png": "[encoded data removed]",
      "text/plain": [
       "<Figure size 432x288 with 1 Axes>"
      ]
     },
     "metadata": {
      "needs_background": "light"
     },
     "output_type": "display_data"
    }
   ],
   "source": [
    "polyreg=make_pipeline(PolynomialFeatures(5),LinearRegression())\n",
    "polyreg.fit(X,y)\n",
    "plt.figure()\n",
    "plt.scatter(X,y)\n",
    "plt.plot(X,polyreg.predict(X))\n",
    "plt.plot(df['Hours'], df['Result'], 'ro')\n",
    "plt.title(\"Polynomial regression of the fifth degree\")\n",
    "plt.show()"
   ]
  },
  {
   "cell_type": "markdown",
   "id": "d87ba44b",
   "metadata": {},
   "source": [
    "Actually, I tried to use a decorator for the 19th cell. I cannot handle arguments and keyword arguments! I will try it again!"
   ]
  }
 ],
 "metadata": {
  "kernelspec": {
   "display_name": "Python 3",
   "language": "python",
   "name": "python3"
  },
  "language_info": {
   "codemirror_mode": {
    "name": "ipython",
    "version": 3
   },
   "file_extension": ".py",
   "mimetype": "text/x-python",
   "name": "python",
   "nbconvert_exporter": "python",
   "pygments_lexer": "ipython3",
   "version": "3.8.10"
  }
 },
 "nbformat": 4,
 "nbformat_minor": 5
}
