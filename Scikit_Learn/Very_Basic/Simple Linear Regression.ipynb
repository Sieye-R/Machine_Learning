{
 "cells": [
  {
   "cell_type": "markdown",
   "id": "8dc10877",
   "metadata": {},
   "source": [
    "# Simple Linear Regression"
   ]
  },
  {
   "cell_type": "markdown",
   "id": "00e625f5",
   "metadata": {},
   "source": [
    "In this notebook, we study a simple linear regression. First, we construct a linear predictor function without scikit learn and then we use scikit learn. We will see these two results are the same.\n",
    "\n",
    "The example is coming from \n",
    "<a href=\"https://en.wikipedia.org/wiki/Logistic_regression\">Logistic regression in Wikipedia</a>.\n",
    "\n",
    "The table indicates the number of hours twenty students spent studying for an exam and whether or not they passed (1) or faild (0)."
   ]
  },
  {
   "cell_type": "markdown",
   "id": "be08dfd8",
   "metadata": {},
   "source": [
    "# Without Scikit Learn"
   ]
  },
  {
   "cell_type": "code",
   "execution_count": 1,
   "id": "545f028e",
   "metadata": {},
   "outputs": [
    {
     "data": {
      "text/html": [
       "<div>\n",
       "<style scoped>\n",
       "    .dataframe tbody tr th:only-of-type {\n",
       "        vertical-align: middle;\n",
       "    }\n",
       "\n",
       "    .dataframe tbody tr th {\n",
       "        vertical-align: top;\n",
       "    }\n",
       "\n",
       "    .dataframe thead th {\n",
       "        text-align: right;\n",
       "    }\n",
       "</style>\n",
       "<table border=\"1\" class=\"dataframe\">\n",
       "  <thead>\n",
       "    <tr style=\"text-align: right;\">\n",
       "      <th></th>\n",
       "      <th>Hours</th>\n",
       "      <th>Result</th>\n",
       "    </tr>\n",
       "  </thead>\n",
       "  <tbody>\n",
       "    <tr>\n",
       "      <th>0</th>\n",
       "      <td>0.50</td>\n",
       "      <td>0</td>\n",
       "    </tr>\n",
       "    <tr>\n",
       "      <th>1</th>\n",
       "      <td>0.75</td>\n",
       "      <td>0</td>\n",
       "    </tr>\n",
       "    <tr>\n",
       "      <th>2</th>\n",
       "      <td>1.00</td>\n",
       "      <td>0</td>\n",
       "    </tr>\n",
       "    <tr>\n",
       "      <th>3</th>\n",
       "      <td>1.25</td>\n",
       "      <td>0</td>\n",
       "    </tr>\n",
       "    <tr>\n",
       "      <th>4</th>\n",
       "      <td>1.50</td>\n",
       "      <td>0</td>\n",
       "    </tr>\n",
       "    <tr>\n",
       "      <th>5</th>\n",
       "      <td>1.75</td>\n",
       "      <td>0</td>\n",
       "    </tr>\n",
       "    <tr>\n",
       "      <th>6</th>\n",
       "      <td>1.75</td>\n",
       "      <td>1</td>\n",
       "    </tr>\n",
       "    <tr>\n",
       "      <th>7</th>\n",
       "      <td>2.00</td>\n",
       "      <td>0</td>\n",
       "    </tr>\n",
       "    <tr>\n",
       "      <th>8</th>\n",
       "      <td>2.25</td>\n",
       "      <td>1</td>\n",
       "    </tr>\n",
       "    <tr>\n",
       "      <th>9</th>\n",
       "      <td>2.50</td>\n",
       "      <td>0</td>\n",
       "    </tr>\n",
       "    <tr>\n",
       "      <th>10</th>\n",
       "      <td>2.75</td>\n",
       "      <td>1</td>\n",
       "    </tr>\n",
       "    <tr>\n",
       "      <th>11</th>\n",
       "      <td>3.00</td>\n",
       "      <td>0</td>\n",
       "    </tr>\n",
       "    <tr>\n",
       "      <th>12</th>\n",
       "      <td>3.25</td>\n",
       "      <td>1</td>\n",
       "    </tr>\n",
       "    <tr>\n",
       "      <th>13</th>\n",
       "      <td>3.50</td>\n",
       "      <td>0</td>\n",
       "    </tr>\n",
       "    <tr>\n",
       "      <th>14</th>\n",
       "      <td>4.00</td>\n",
       "      <td>1</td>\n",
       "    </tr>\n",
       "    <tr>\n",
       "      <th>15</th>\n",
       "      <td>4.25</td>\n",
       "      <td>1</td>\n",
       "    </tr>\n",
       "    <tr>\n",
       "      <th>16</th>\n",
       "      <td>4.50</td>\n",
       "      <td>1</td>\n",
       "    </tr>\n",
       "    <tr>\n",
       "      <th>17</th>\n",
       "      <td>4.75</td>\n",
       "      <td>1</td>\n",
       "    </tr>\n",
       "    <tr>\n",
       "      <th>18</th>\n",
       "      <td>5.00</td>\n",
       "      <td>1</td>\n",
       "    </tr>\n",
       "    <tr>\n",
       "      <th>19</th>\n",
       "      <td>5.50</td>\n",
       "      <td>1</td>\n",
       "    </tr>\n",
       "  </tbody>\n",
       "</table>\n",
       "</div>"
      ],
      "text/plain": [
       "    Hours  Result\n",
       "0    0.50       0\n",
       "1    0.75       0\n",
       "2    1.00       0\n",
       "3    1.25       0\n",
       "4    1.50       0\n",
       "5    1.75       0\n",
       "6    1.75       1\n",
       "7    2.00       0\n",
       "8    2.25       1\n",
       "9    2.50       0\n",
       "10   2.75       1\n",
       "11   3.00       0\n",
       "12   3.25       1\n",
       "13   3.50       0\n",
       "14   4.00       1\n",
       "15   4.25       1\n",
       "16   4.50       1\n",
       "17   4.75       1\n",
       "18   5.00       1\n",
       "19   5.50       1"
      ]
     },
     "execution_count": 1,
     "metadata": {},
     "output_type": "execute_result"
    }
   ],
   "source": [
    "import pandas as pd\n",
    "df = pd.DataFrame({\n",
    "    'Hours': [0.5, 0.75, 1.0, 1.25, 1.5, 1.75, 1.75, 2.0, 2.25, 2.5, 2.75, 3.0, 3.25, 3.5, 4.0, 4.25, 4.5, 4.75, 5.0, 5.5],\n",
    "    'Result': [0, 0, 0, 0, 0, 0, 1, 0, 1, 0, 1, 0, 1, 0, 1, 1, 1, 1, 1, 1]})\n",
    "df"
   ]
  },
  {
   "cell_type": "markdown",
   "id": "e064b03d",
   "metadata": {},
   "source": [
    "The following is the graph."
   ]
  },
  {
   "cell_type": "code",
   "execution_count": 2,
   "id": "f7507561",
   "metadata": {},
   "outputs": [
    {
     "data": {
      "image/png": "[encoded data removed]",
      "text/plain": [
       "<Figure size 432x288 with 1 Axes>"
      ]
     },
     "metadata": {
      "needs_background": "light"
     },
     "output_type": "display_data"
    }
   ],
   "source": [
    "import matplotlib.pyplot as plt\n",
    "plt.plot(df['Hours'], df['Result'], 'ro')\n",
    "plt.title(\"Study Hours and the Test Results\")\n",
    "plt.show()"
   ]
  },
  {
   "cell_type": "markdown",
   "id": "ed12b8bc",
   "metadata": {},
   "source": [
    "We will construct a linear predictor function y = b_1 * x + b_0 using the method of least squares.\n",
    "First, we compute b_1. We do not want to modify the original data frame. So we will use a copy."
   ]
  },
  {
   "cell_type": "code",
   "execution_count": 3,
   "id": "9fb4d44e",
   "metadata": {},
   "outputs": [],
   "source": [
    "def copying(data):\n",
    "    return data.copy()"
   ]
  },
  {
   "cell_type": "code",
   "execution_count": 4,
   "id": "22c0cba5",
   "metadata": {},
   "outputs": [],
   "source": [
    "def coefficient(data):\n",
    "    data['numerator'] = (data['Hours']-df['Hours'].mean())*(data['Result']-df['Result'].mean())\n",
    "    data['denominator'] = ((data['Hours']-df['Hours'].mean())**2)\n",
    "    return data['numerator'].sum()/data['denominator'].sum()"
   ]
  },
  {
   "cell_type": "code",
   "execution_count": 5,
   "id": "db68dd79",
   "metadata": {
    "scrolled": false
   },
   "outputs": [
    {
     "data": {
      "text/plain": [
       "0.23459561219317931"
      ]
     },
     "execution_count": 5,
     "metadata": {},
     "output_type": "execute_result"
    }
   ],
   "source": [
    "df.pipe(copying).pipe(coefficient)"
   ]
  },
  {
   "cell_type": "markdown",
   "id": "3cfaa403",
   "metadata": {},
   "source": [
    "We compute b_0."
   ]
  },
  {
   "cell_type": "code",
   "execution_count": 6,
   "id": "685fa283",
   "metadata": {},
   "outputs": [],
   "source": [
    "def intercept(beta=0.2346):\n",
    "    return df['Result'].mean()-(beta*df['Hours'].mean())"
   ]
  },
  {
   "cell_type": "code",
   "execution_count": 7,
   "id": "9d56703f",
   "metadata": {},
   "outputs": [
    {
     "data": {
      "text/plain": [
       "-0.15394750000000001"
      ]
     },
     "execution_count": 7,
     "metadata": {},
     "output_type": "execute_result"
    }
   ],
   "source": [
    "intercept(beta=0.2346)"
   ]
  },
  {
   "cell_type": "markdown",
   "id": "7bd4f84a",
   "metadata": {},
   "source": [
    "The linear predictor function is\n",
    "y = 0.2346 * x - 0.1539. The following is the graph."
   ]
  },
  {
   "cell_type": "code",
   "execution_count": 8,
   "id": "082cbc19",
   "metadata": {},
   "outputs": [
    {
     "data": {
      "image/png": "[encoded data removed]",
      "text/plain": [
       "<Figure size 432x288 with 1 Axes>"
      ]
     },
     "metadata": {
      "needs_background": "light"
     },
     "output_type": "display_data"
    }
   ],
   "source": [
    "import numpy as np\n",
    "\n",
    "x = np.linspace(0,6,10)\n",
    "y = 0.2346 * x - 0.1539 \n",
    "\n",
    "plt.plot(x,y, 'b')\n",
    "plt.plot(df['Hours'], df['Result'], 'ro')\n",
    "plt.show()"
   ]
  },
  {
   "cell_type": "markdown",
   "id": "5d9e5b8c",
   "metadata": {},
   "source": [
    "# With Scikit Learn"
   ]
  },
  {
   "cell_type": "code",
   "execution_count": 9,
   "id": "7f77cf52",
   "metadata": {},
   "outputs": [],
   "source": [
    "X = df.iloc[:, :-1].values\n",
    "y = df.iloc[:, 1].values"
   ]
  },
  {
   "cell_type": "code",
   "execution_count": 10,
   "id": "98e84f9c",
   "metadata": {},
   "outputs": [
    {
     "data": {
      "text/plain": [
       "LinearRegression()"
      ]
     },
     "execution_count": 10,
     "metadata": {},
     "output_type": "execute_result"
    }
   ],
   "source": [
    "from sklearn.linear_model import LinearRegression\n",
    "regressor = LinearRegression()\n",
    "regressor.fit(X, y)"
   ]
  },
  {
   "cell_type": "code",
   "execution_count": 11,
   "id": "13a166bb",
   "metadata": {},
   "outputs": [
    {
     "name": "stdout",
     "output_type": "stream",
     "text": [
      "[0.23459561]\n"
     ]
    }
   ],
   "source": [
    "print(regressor.coef_)"
   ]
  },
  {
   "cell_type": "code",
   "execution_count": 12,
   "id": "a94438af",
   "metadata": {
    "scrolled": false
   },
   "outputs": [
    {
     "name": "stdout",
     "output_type": "stream",
     "text": [
      "-0.15393526898848708\n"
     ]
    }
   ],
   "source": [
    "print(regressor.intercept_)"
   ]
  }
 ],
 "metadata": {
  "kernelspec": {
   "display_name": "Python 3",
   "language": "python",
   "name": "python3"
  },
  "language_info": {
   "codemirror_mode": {
    "name": "ipython",
    "version": 3
   },
   "file_extension": ".py",
   "mimetype": "text/x-python",
   "name": "python",
   "nbconvert_exporter": "python",
   "pygments_lexer": "ipython3",
   "version": "3.8.10"
  }
 },
 "nbformat": 4,
 "nbformat_minor": 5
}
